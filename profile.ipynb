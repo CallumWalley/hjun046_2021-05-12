{
 "cells": [
  {
   "cell_type": "code",
   "execution_count": 77,
   "metadata": {},
   "outputs": [
    {
     "data": {
      "text/html": [
       "        <script type=\"text/javascript\">\n",
       "        window.PlotlyConfig = {MathJaxConfig: 'local'};\n",
       "        if (window.MathJax) {MathJax.Hub.Config({SVG: {font: \"STIX-Web\"}});}\n",
       "        if (typeof require !== 'undefined') {\n",
       "        require.undef(\"plotly\");\n",
       "        requirejs.config({\n",
       "            paths: {\n",
       "                'plotly': ['https://cdn.plot.ly/plotly-latest.min']\n",
       "            }\n",
       "        });\n",
       "        require(['plotly'], function(Plotly) {\n",
       "            window._Plotly = Plotly;\n",
       "        });\n",
       "        }\n",
       "        </script>\n",
       "        "
      ]
     },
     "metadata": {},
     "output_type": "display_data"
    }
   ],
   "source": [
    "import pandas as pd\n",
    "import plotly\n",
    "import plotly.express as px\n",
    "import plotly.graph_objects as go\n",
    "from plotly.subplots import make_subplots\n",
    "plotly.offline.init_notebook_mode(connected=True)"
   ]
  },
  {
   "cell_type": "code",
   "execution_count": 78,
   "metadata": {},
   "outputs": [
    {
     "data": {
      "text/html": [
       "<div>\n",
       "<style scoped>\n",
       "    .dataframe tbody tr th:only-of-type {\n",
       "        vertical-align: middle;\n",
       "    }\n",
       "\n",
       "    .dataframe tbody tr th {\n",
       "        vertical-align: top;\n",
       "    }\n",
       "\n",
       "    .dataframe thead th {\n",
       "        text-align: right;\n",
       "    }\n",
       "</style>\n",
       "<table border=\"1\" class=\"dataframe\">\n",
       "  <thead>\n",
       "    <tr style=\"text-align: right;\">\n",
       "      <th></th>\n",
       "      <th>AllocCPUS</th>\n",
       "      <th>Hyperthreading</th>\n",
       "      <th>Elapsed_s</th>\n",
       "      <th>Elapsed_s_std</th>\n",
       "      <th>CPUTime_s</th>\n",
       "      <th>CPUTime_s_std</th>\n",
       "      <th>MaxRSS</th>\n",
       "      <th>MaxRSS_std</th>\n",
       "    </tr>\n",
       "  </thead>\n",
       "  <tbody>\n",
       "    <tr>\n",
       "      <th>0</th>\n",
       "      <td>4</td>\n",
       "      <td>True</td>\n",
       "      <td>2349</td>\n",
       "      <td>NaN</td>\n",
       "      <td>9396</td>\n",
       "      <td>NaN</td>\n",
       "      <td>4141012000</td>\n",
       "      <td>NaN</td>\n",
       "    </tr>\n",
       "    <tr>\n",
       "      <th>1</th>\n",
       "      <td>6</td>\n",
       "      <td>True</td>\n",
       "      <td>1740</td>\n",
       "      <td>NaN</td>\n",
       "      <td>10440</td>\n",
       "      <td>NaN</td>\n",
       "      <td>3939508000</td>\n",
       "      <td>NaN</td>\n",
       "    </tr>\n",
       "    <tr>\n",
       "      <th>2</th>\n",
       "      <td>8</td>\n",
       "      <td>True</td>\n",
       "      <td>1256</td>\n",
       "      <td>NaN</td>\n",
       "      <td>10048</td>\n",
       "      <td>NaN</td>\n",
       "      <td>3849668000</td>\n",
       "      <td>NaN</td>\n",
       "    </tr>\n",
       "    <tr>\n",
       "      <th>3</th>\n",
       "      <td>10</td>\n",
       "      <td>True</td>\n",
       "      <td>1072</td>\n",
       "      <td>NaN</td>\n",
       "      <td>10720</td>\n",
       "      <td>NaN</td>\n",
       "      <td>4016636000</td>\n",
       "      <td>NaN</td>\n",
       "    </tr>\n",
       "    <tr>\n",
       "      <th>4</th>\n",
       "      <td>12</td>\n",
       "      <td>True</td>\n",
       "      <td>1012</td>\n",
       "      <td>NaN</td>\n",
       "      <td>12144</td>\n",
       "      <td>NaN</td>\n",
       "      <td>4055408000</td>\n",
       "      <td>NaN</td>\n",
       "    </tr>\n",
       "    <tr>\n",
       "      <th>5</th>\n",
       "      <td>14</td>\n",
       "      <td>True</td>\n",
       "      <td>933</td>\n",
       "      <td>NaN</td>\n",
       "      <td>13062</td>\n",
       "      <td>NaN</td>\n",
       "      <td>4068936000</td>\n",
       "      <td>NaN</td>\n",
       "    </tr>\n",
       "    <tr>\n",
       "      <th>6</th>\n",
       "      <td>16</td>\n",
       "      <td>True</td>\n",
       "      <td>991</td>\n",
       "      <td>NaN</td>\n",
       "      <td>15856</td>\n",
       "      <td>NaN</td>\n",
       "      <td>4091396000</td>\n",
       "      <td>NaN</td>\n",
       "    </tr>\n",
       "    <tr>\n",
       "      <th>7</th>\n",
       "      <td>18</td>\n",
       "      <td>True</td>\n",
       "      <td>744</td>\n",
       "      <td>NaN</td>\n",
       "      <td>13392</td>\n",
       "      <td>NaN</td>\n",
       "      <td>4145580000</td>\n",
       "      <td>NaN</td>\n",
       "    </tr>\n",
       "    <tr>\n",
       "      <th>8</th>\n",
       "      <td>20</td>\n",
       "      <td>True</td>\n",
       "      <td>739</td>\n",
       "      <td>NaN</td>\n",
       "      <td>14780</td>\n",
       "      <td>NaN</td>\n",
       "      <td>4180512000</td>\n",
       "      <td>NaN</td>\n",
       "    </tr>\n",
       "    <tr>\n",
       "      <th>9</th>\n",
       "      <td>22</td>\n",
       "      <td>True</td>\n",
       "      <td>649</td>\n",
       "      <td>NaN</td>\n",
       "      <td>14278</td>\n",
       "      <td>NaN</td>\n",
       "      <td>4242864000</td>\n",
       "      <td>NaN</td>\n",
       "    </tr>\n",
       "    <tr>\n",
       "      <th>10</th>\n",
       "      <td>24</td>\n",
       "      <td>True</td>\n",
       "      <td>550</td>\n",
       "      <td>NaN</td>\n",
       "      <td>13200</td>\n",
       "      <td>NaN</td>\n",
       "      <td>4308156000</td>\n",
       "      <td>NaN</td>\n",
       "    </tr>\n",
       "    <tr>\n",
       "      <th>11</th>\n",
       "      <td>26</td>\n",
       "      <td>True</td>\n",
       "      <td>626</td>\n",
       "      <td>NaN</td>\n",
       "      <td>16276</td>\n",
       "      <td>NaN</td>\n",
       "      <td>4344056000</td>\n",
       "      <td>NaN</td>\n",
       "    </tr>\n",
       "    <tr>\n",
       "      <th>12</th>\n",
       "      <td>28</td>\n",
       "      <td>True</td>\n",
       "      <td>530</td>\n",
       "      <td>NaN</td>\n",
       "      <td>14840</td>\n",
       "      <td>NaN</td>\n",
       "      <td>4568952000</td>\n",
       "      <td>NaN</td>\n",
       "    </tr>\n",
       "    <tr>\n",
       "      <th>13</th>\n",
       "      <td>30</td>\n",
       "      <td>True</td>\n",
       "      <td>507</td>\n",
       "      <td>NaN</td>\n",
       "      <td>15210</td>\n",
       "      <td>NaN</td>\n",
       "      <td>4468200000</td>\n",
       "      <td>NaN</td>\n",
       "    </tr>\n",
       "    <tr>\n",
       "      <th>14</th>\n",
       "      <td>32</td>\n",
       "      <td>True</td>\n",
       "      <td>422</td>\n",
       "      <td>NaN</td>\n",
       "      <td>13504</td>\n",
       "      <td>NaN</td>\n",
       "      <td>4481188000</td>\n",
       "      <td>NaN</td>\n",
       "    </tr>\n",
       "    <tr>\n",
       "      <th>15</th>\n",
       "      <td>34</td>\n",
       "      <td>True</td>\n",
       "      <td>510</td>\n",
       "      <td>NaN</td>\n",
       "      <td>17340</td>\n",
       "      <td>NaN</td>\n",
       "      <td>4464012000</td>\n",
       "      <td>NaN</td>\n",
       "    </tr>\n",
       "    <tr>\n",
       "      <th>16</th>\n",
       "      <td>36</td>\n",
       "      <td>True</td>\n",
       "      <td>488</td>\n",
       "      <td>NaN</td>\n",
       "      <td>17568</td>\n",
       "      <td>NaN</td>\n",
       "      <td>4344364000</td>\n",
       "      <td>NaN</td>\n",
       "    </tr>\n",
       "    <tr>\n",
       "      <th>17</th>\n",
       "      <td>38</td>\n",
       "      <td>True</td>\n",
       "      <td>549</td>\n",
       "      <td>NaN</td>\n",
       "      <td>20862</td>\n",
       "      <td>NaN</td>\n",
       "      <td>4427396000</td>\n",
       "      <td>NaN</td>\n",
       "    </tr>\n",
       "    <tr>\n",
       "      <th>18</th>\n",
       "      <td>40</td>\n",
       "      <td>True</td>\n",
       "      <td>467</td>\n",
       "      <td>NaN</td>\n",
       "      <td>18680</td>\n",
       "      <td>NaN</td>\n",
       "      <td>4465124000</td>\n",
       "      <td>NaN</td>\n",
       "    </tr>\n",
       "    <tr>\n",
       "      <th>19</th>\n",
       "      <td>42</td>\n",
       "      <td>True</td>\n",
       "      <td>459</td>\n",
       "      <td>NaN</td>\n",
       "      <td>19278</td>\n",
       "      <td>NaN</td>\n",
       "      <td>4521652000</td>\n",
       "      <td>NaN</td>\n",
       "    </tr>\n",
       "    <tr>\n",
       "      <th>20</th>\n",
       "      <td>44</td>\n",
       "      <td>True</td>\n",
       "      <td>453</td>\n",
       "      <td>NaN</td>\n",
       "      <td>19932</td>\n",
       "      <td>NaN</td>\n",
       "      <td>4835968000</td>\n",
       "      <td>NaN</td>\n",
       "    </tr>\n",
       "    <tr>\n",
       "      <th>21</th>\n",
       "      <td>46</td>\n",
       "      <td>True</td>\n",
       "      <td>483</td>\n",
       "      <td>NaN</td>\n",
       "      <td>22218</td>\n",
       "      <td>NaN</td>\n",
       "      <td>4897884000</td>\n",
       "      <td>NaN</td>\n",
       "    </tr>\n",
       "    <tr>\n",
       "      <th>22</th>\n",
       "      <td>48</td>\n",
       "      <td>True</td>\n",
       "      <td>501</td>\n",
       "      <td>NaN</td>\n",
       "      <td>24048</td>\n",
       "      <td>NaN</td>\n",
       "      <td>5002148000</td>\n",
       "      <td>NaN</td>\n",
       "    </tr>\n",
       "    <tr>\n",
       "      <th>23</th>\n",
       "      <td>50</td>\n",
       "      <td>True</td>\n",
       "      <td>394</td>\n",
       "      <td>NaN</td>\n",
       "      <td>19700</td>\n",
       "      <td>NaN</td>\n",
       "      <td>5011160000</td>\n",
       "      <td>NaN</td>\n",
       "    </tr>\n",
       "    <tr>\n",
       "      <th>24</th>\n",
       "      <td>52</td>\n",
       "      <td>True</td>\n",
       "      <td>422</td>\n",
       "      <td>NaN</td>\n",
       "      <td>21944</td>\n",
       "      <td>NaN</td>\n",
       "      <td>5026664000</td>\n",
       "      <td>NaN</td>\n",
       "    </tr>\n",
       "    <tr>\n",
       "      <th>25</th>\n",
       "      <td>54</td>\n",
       "      <td>True</td>\n",
       "      <td>427</td>\n",
       "      <td>NaN</td>\n",
       "      <td>23058</td>\n",
       "      <td>NaN</td>\n",
       "      <td>5120972000</td>\n",
       "      <td>NaN</td>\n",
       "    </tr>\n",
       "    <tr>\n",
       "      <th>26</th>\n",
       "      <td>56</td>\n",
       "      <td>True</td>\n",
       "      <td>401</td>\n",
       "      <td>NaN</td>\n",
       "      <td>22456</td>\n",
       "      <td>NaN</td>\n",
       "      <td>5214504000</td>\n",
       "      <td>NaN</td>\n",
       "    </tr>\n",
       "    <tr>\n",
       "      <th>27</th>\n",
       "      <td>58</td>\n",
       "      <td>True</td>\n",
       "      <td>440</td>\n",
       "      <td>NaN</td>\n",
       "      <td>25520</td>\n",
       "      <td>NaN</td>\n",
       "      <td>5225552000</td>\n",
       "      <td>NaN</td>\n",
       "    </tr>\n",
       "    <tr>\n",
       "      <th>28</th>\n",
       "      <td>60</td>\n",
       "      <td>True</td>\n",
       "      <td>357</td>\n",
       "      <td>NaN</td>\n",
       "      <td>21420</td>\n",
       "      <td>NaN</td>\n",
       "      <td>5249652000</td>\n",
       "      <td>NaN</td>\n",
       "    </tr>\n",
       "    <tr>\n",
       "      <th>29</th>\n",
       "      <td>62</td>\n",
       "      <td>True</td>\n",
       "      <td>371</td>\n",
       "      <td>NaN</td>\n",
       "      <td>23002</td>\n",
       "      <td>NaN</td>\n",
       "      <td>5293112000</td>\n",
       "      <td>NaN</td>\n",
       "    </tr>\n",
       "    <tr>\n",
       "      <th>30</th>\n",
       "      <td>64</td>\n",
       "      <td>True</td>\n",
       "      <td>346</td>\n",
       "      <td>NaN</td>\n",
       "      <td>22144</td>\n",
       "      <td>NaN</td>\n",
       "      <td>5328616000</td>\n",
       "      <td>NaN</td>\n",
       "    </tr>\n",
       "    <tr>\n",
       "      <th>31</th>\n",
       "      <td>66</td>\n",
       "      <td>True</td>\n",
       "      <td>352</td>\n",
       "      <td>NaN</td>\n",
       "      <td>23232</td>\n",
       "      <td>NaN</td>\n",
       "      <td>5423716000</td>\n",
       "      <td>NaN</td>\n",
       "    </tr>\n",
       "    <tr>\n",
       "      <th>32</th>\n",
       "      <td>68</td>\n",
       "      <td>True</td>\n",
       "      <td>302</td>\n",
       "      <td>NaN</td>\n",
       "      <td>20536</td>\n",
       "      <td>NaN</td>\n",
       "      <td>5505384000</td>\n",
       "      <td>NaN</td>\n",
       "    </tr>\n",
       "    <tr>\n",
       "      <th>33</th>\n",
       "      <td>70</td>\n",
       "      <td>True</td>\n",
       "      <td>324</td>\n",
       "      <td>NaN</td>\n",
       "      <td>22680</td>\n",
       "      <td>NaN</td>\n",
       "      <td>5479380000</td>\n",
       "      <td>NaN</td>\n",
       "    </tr>\n",
       "    <tr>\n",
       "      <th>34</th>\n",
       "      <td>72</td>\n",
       "      <td>True</td>\n",
       "      <td>344</td>\n",
       "      <td>NaN</td>\n",
       "      <td>24768</td>\n",
       "      <td>NaN</td>\n",
       "      <td>5571684000</td>\n",
       "      <td>NaN</td>\n",
       "    </tr>\n",
       "  </tbody>\n",
       "</table>\n",
       "</div>"
      ],
      "text/plain": [
       "    AllocCPUS  Hyperthreading  Elapsed_s  Elapsed_s_std  CPUTime_s  \\\n",
       "0           4            True       2349            NaN       9396   \n",
       "1           6            True       1740            NaN      10440   \n",
       "2           8            True       1256            NaN      10048   \n",
       "3          10            True       1072            NaN      10720   \n",
       "4          12            True       1012            NaN      12144   \n",
       "5          14            True        933            NaN      13062   \n",
       "6          16            True        991            NaN      15856   \n",
       "7          18            True        744            NaN      13392   \n",
       "8          20            True        739            NaN      14780   \n",
       "9          22            True        649            NaN      14278   \n",
       "10         24            True        550            NaN      13200   \n",
       "11         26            True        626            NaN      16276   \n",
       "12         28            True        530            NaN      14840   \n",
       "13         30            True        507            NaN      15210   \n",
       "14         32            True        422            NaN      13504   \n",
       "15         34            True        510            NaN      17340   \n",
       "16         36            True        488            NaN      17568   \n",
       "17         38            True        549            NaN      20862   \n",
       "18         40            True        467            NaN      18680   \n",
       "19         42            True        459            NaN      19278   \n",
       "20         44            True        453            NaN      19932   \n",
       "21         46            True        483            NaN      22218   \n",
       "22         48            True        501            NaN      24048   \n",
       "23         50            True        394            NaN      19700   \n",
       "24         52            True        422            NaN      21944   \n",
       "25         54            True        427            NaN      23058   \n",
       "26         56            True        401            NaN      22456   \n",
       "27         58            True        440            NaN      25520   \n",
       "28         60            True        357            NaN      21420   \n",
       "29         62            True        371            NaN      23002   \n",
       "30         64            True        346            NaN      22144   \n",
       "31         66            True        352            NaN      23232   \n",
       "32         68            True        302            NaN      20536   \n",
       "33         70            True        324            NaN      22680   \n",
       "34         72            True        344            NaN      24768   \n",
       "\n",
       "    CPUTime_s_std      MaxRSS  MaxRSS_std  \n",
       "0             NaN  4141012000         NaN  \n",
       "1             NaN  3939508000         NaN  \n",
       "2             NaN  3849668000         NaN  \n",
       "3             NaN  4016636000         NaN  \n",
       "4             NaN  4055408000         NaN  \n",
       "5             NaN  4068936000         NaN  \n",
       "6             NaN  4091396000         NaN  \n",
       "7             NaN  4145580000         NaN  \n",
       "8             NaN  4180512000         NaN  \n",
       "9             NaN  4242864000         NaN  \n",
       "10            NaN  4308156000         NaN  \n",
       "11            NaN  4344056000         NaN  \n",
       "12            NaN  4568952000         NaN  \n",
       "13            NaN  4468200000         NaN  \n",
       "14            NaN  4481188000         NaN  \n",
       "15            NaN  4464012000         NaN  \n",
       "16            NaN  4344364000         NaN  \n",
       "17            NaN  4427396000         NaN  \n",
       "18            NaN  4465124000         NaN  \n",
       "19            NaN  4521652000         NaN  \n",
       "20            NaN  4835968000         NaN  \n",
       "21            NaN  4897884000         NaN  \n",
       "22            NaN  5002148000         NaN  \n",
       "23            NaN  5011160000         NaN  \n",
       "24            NaN  5026664000         NaN  \n",
       "25            NaN  5120972000         NaN  \n",
       "26            NaN  5214504000         NaN  \n",
       "27            NaN  5225552000         NaN  \n",
       "28            NaN  5249652000         NaN  \n",
       "29            NaN  5293112000         NaN  \n",
       "30            NaN  5328616000         NaN  \n",
       "31            NaN  5423716000         NaN  \n",
       "32            NaN  5505384000         NaN  \n",
       "33            NaN  5479380000         NaN  \n",
       "34            NaN  5571684000         NaN  "
      ]
     },
     "execution_count": 78,
     "metadata": {},
     "output_type": "execute_result"
    }
   ],
   "source": [
    "df=pd.read_csv('prof.csv')\n",
    "\n",
    "# Create readable time values.\n",
    "df[\"Elapsed_s\"]=pd.to_timedelta(df['Elapsed']).astype('timedelta64[s]').astype(int)\n",
    "df[\"CPUTime_s\"]=pd.to_timedelta(df['CPUTime']).astype('timedelta64[s]').astype(int)\n",
    "df[\"MaxRSS\"]=df.apply(lambda row: int(row[\"MaxRSS\"][:-1])*1000, axis=1)\n",
    "\n",
    "#df[\"MaxRSS=\"]\n",
    "#JobId,AllocCPUS,NTasks,AllocNodes,CPUTime,Elapsed,MaxRSS,Hyperthreading\n",
    "\n",
    "# Aggrigate\n",
    "df_agg=df.groupby([\"AllocCPUS\",\"Hyperthreading\"], as_index=False).agg({'Elapsed_s': ['mean', 'std'],'CPUTime_s': ['mean', 'std'],'MaxRSS': ['mean', 'std']})\n",
    "df_agg.columns = [\"AllocCPUS\",\"Hyperthreading\",'Elapsed_s', 'Elapsed_s_std','CPUTime_s', 'CPUTime_s_std','MaxRSS', 'MaxRSS_std']\n",
    "df_agg.reindex()\n",
    "#print(df_agg)"
   ]
  },
  {
   "cell_type": "code",
   "execution_count": 79,
   "metadata": {},
   "outputs": [],
   "source": [
    "#Speedup reference time.\n",
    "ref_time=4406\n",
    "\n",
    "df_agg[\"Speedup\"]=df_agg.apply(lambda row: ref_time/row[\"Elapsed_s\"], axis=1)\n",
    "df_agg[\"CpuEfficiency\"]=df_agg.apply(lambda row: ref_time/(row[\"Elapsed_s\"]*row[\"AllocCPUS\"]),axis=1)"
   ]
  },
  {
   "cell_type": "code",
   "execution_count": 82,
   "metadata": {},
   "outputs": [],
   "source": [
    "fig = px.line(df_agg, x=\"AllocCPUS\", y=\"Speedup\", color=\"Hyperthreading\", error_y=\"Elapsed_s_std\", hover_data={\"Speedup\":False,\"Hyperthreading\":False,\"AllocCPUS\":False,\"Elapsed_s\":True,\"CpuEfficiency\":\":.0%\",\"MaxRSS\":\":.2s%\"})"
   ]
  },
  {
   "cell_type": "code",
   "execution_count": 83,
   "metadata": {},
   "outputs": [
    {
     "data": {
      "application/vnd.plotly.v1+json": {
       "config": {
        "plotlyServerURL": "https://plot.ly"
       },
       "data": [
        {
         "customdata": [
          [
           1.8756917837377607,
           1,
           4,
           2349,
           0.46892294593444017,
           4141012000
          ],
          [
           2.532183908045977,
           1,
           6,
           1740,
           0.42203065134099615,
           3939508000
          ],
          [
           3.5079617834394905,
           1,
           8,
           1256,
           0.4384952229299363,
           3849668000
          ],
          [
           4.110074626865671,
           1,
           10,
           1072,
           0.4110074626865672,
           4016636000
          ],
          [
           4.353754940711463,
           1,
           12,
           1012,
           0.3628129117259552,
           4055408000
          ],
          [
           4.722400857449089,
           1,
           14,
           933,
           0.3373143469606492,
           4068936000
          ],
          [
           4.4460141271442986,
           1,
           16,
           991,
           0.27787588294651866,
           4091396000
          ],
          [
           5.922043010752688,
           1,
           18,
           744,
           0.3290023894862604,
           4145580000
          ],
          [
           5.962110960757781,
           1,
           20,
           739,
           0.298105548037889,
           4180512000
          ],
          [
           6.788906009244992,
           1,
           22,
           649,
           0.3085866367838633,
           4242864000
          ],
          [
           8.010909090909092,
           1,
           24,
           550,
           0.3337878787878788,
           4308156000
          ],
          [
           7.038338658146965,
           1,
           26,
           626,
           0.27070533300565247,
           4344056000
          ],
          [
           8.313207547169812,
           1,
           28,
           530,
           0.29690026954177895,
           4568952000
          ],
          [
           8.690335305719922,
           1,
           30,
           507,
           0.2896778435239974,
           4468200000
          ],
          [
           10.440758293838863,
           1,
           32,
           422,
           0.3262736966824645,
           4481188000
          ],
          [
           8.63921568627451,
           1,
           34,
           510,
           0.2540945790080738,
           4464012000
          ],
          [
           9.028688524590164,
           1,
           36,
           488,
           0.2507969034608379,
           4344364000
          ],
          [
           8.025500910746812,
           1,
           38,
           549,
           0.211197392388074,
           4427396000
          ],
          [
           9.434689507494646,
           1,
           40,
           467,
           0.23586723768736617,
           4465124000
          ],
          [
           9.599128540305012,
           1,
           42,
           459,
           0.2285506795310717,
           4521652000
          ],
          [
           9.726269315673289,
           1,
           44,
           453,
           0.22105157535621112,
           4835968000
          ],
          [
           9.122153209109731,
           1,
           46,
           483,
           0.1983076784589072,
           4897884000
          ],
          [
           8.79441117764471,
           1,
           48,
           501,
           0.18321689953426482,
           5002148000
          ],
          [
           11.182741116751268,
           1,
           50,
           394,
           0.22365482233502537,
           5011160000
          ],
          [
           10.440758293838863,
           1,
           52,
           422,
           0.20078381334305506,
           5026664000
          ],
          [
           10.318501170960188,
           1,
           54,
           427,
           0.19108335501778126,
           5120972000
          ],
          [
           10.987531172069826,
           1,
           56,
           401,
           0.19620591378696117,
           5214504000
          ],
          [
           10.013636363636364,
           1,
           58,
           440,
           0.17264890282131662,
           5225552000
          ],
          [
           12.341736694677872,
           1,
           60,
           357,
           0.2056956115779645,
           5249652000
          ],
          [
           11.876010781671159,
           1,
           62,
           371,
           0.1915485609946961,
           5293112000
          ],
          [
           12.734104046242775,
           1,
           64,
           346,
           0.19897037572254336,
           5328616000
          ],
          [
           12.517045454545455,
           1,
           66,
           352,
           0.1896522038567493,
           5423716000
          ],
          [
           14.589403973509933,
           1,
           68,
           302,
           0.21455005843396963,
           5505384000
          ],
          [
           13.598765432098766,
           1,
           70,
           324,
           0.19426807760141093,
           5479380000
          ],
          [
           12.80813953488372,
           1,
           72,
           344,
           0.177890826873385,
           5571684000
          ]
         ],
         "error_y": {
          "array": [
           null,
           null,
           null,
           null,
           null,
           null,
           null,
           null,
           null,
           null,
           null,
           null,
           null,
           null,
           null,
           null,
           null,
           null,
           null,
           null,
           null,
           null,
           null,
           null,
           null,
           null,
           null,
           null,
           null,
           null,
           null,
           null,
           null,
           null,
           null
          ]
         },
         "hovertemplate": "Elapsed_s=%{customdata[3]}<br>CpuEfficiency=%{customdata[4]:.0%}<br>MaxRSS=%{customdata[5]:.2s%}<extra></extra>",
         "legendgroup": "True",
         "line": {
          "color": "#636efa",
          "dash": "solid"
         },
         "mode": "lines",
         "name": "True",
         "orientation": "v",
         "showlegend": true,
         "type": "scatter",
         "x": [
          4,
          6,
          8,
          10,
          12,
          14,
          16,
          18,
          20,
          22,
          24,
          26,
          28,
          30,
          32,
          34,
          36,
          38,
          40,
          42,
          44,
          46,
          48,
          50,
          52,
          54,
          56,
          58,
          60,
          62,
          64,
          66,
          68,
          70,
          72
         ],
         "xaxis": "x",
         "y": [
          1.8756917837377607,
          2.532183908045977,
          3.5079617834394905,
          4.110074626865671,
          4.353754940711463,
          4.722400857449089,
          4.4460141271442986,
          5.922043010752688,
          5.962110960757781,
          6.788906009244992,
          8.010909090909092,
          7.038338658146965,
          8.313207547169812,
          8.690335305719922,
          10.440758293838863,
          8.63921568627451,
          9.028688524590164,
          8.025500910746812,
          9.434689507494646,
          9.599128540305012,
          9.726269315673289,
          9.122153209109731,
          8.79441117764471,
          11.182741116751268,
          10.440758293838863,
          10.318501170960188,
          10.987531172069826,
          10.013636363636364,
          12.341736694677872,
          11.876010781671159,
          12.734104046242775,
          12.517045454545455,
          14.589403973509933,
          13.598765432098766,
          12.80813953488372
         ],
         "yaxis": "y"
        }
       ],
       "layout": {
        "autosize": true,
        "legend": {
         "title": {
          "text": "Hyperthreading"
         },
         "tracegroupgap": 0
        },
        "margin": {
         "t": 60
        },
        "template": {
         "data": {
          "bar": [
           {
            "error_x": {
             "color": "#2a3f5f"
            },
            "error_y": {
             "color": "#2a3f5f"
            },
            "marker": {
             "line": {
              "color": "#E5ECF6",
              "width": 0.5
             }
            },
            "type": "bar"
           }
          ],
          "barpolar": [
           {
            "marker": {
             "line": {
              "color": "#E5ECF6",
              "width": 0.5
             }
            },
            "type": "barpolar"
           }
          ],
          "carpet": [
           {
            "aaxis": {
             "endlinecolor": "#2a3f5f",
             "gridcolor": "white",
             "linecolor": "white",
             "minorgridcolor": "white",
             "startlinecolor": "#2a3f5f"
            },
            "baxis": {
             "endlinecolor": "#2a3f5f",
             "gridcolor": "white",
             "linecolor": "white",
             "minorgridcolor": "white",
             "startlinecolor": "#2a3f5f"
            },
            "type": "carpet"
           }
          ],
          "choropleth": [
           {
            "colorbar": {
             "outlinewidth": 0,
             "ticks": ""
            },
            "type": "choropleth"
           }
          ],
          "contour": [
           {
            "colorbar": {
             "outlinewidth": 0,
             "ticks": ""
            },
            "colorscale": [
             [
              0,
              "#0d0887"
             ],
             [
              0.1111111111111111,
              "#46039f"
             ],
             [
              0.2222222222222222,
              "#7201a8"
             ],
             [
              0.3333333333333333,
              "#9c179e"
             ],
             [
              0.4444444444444444,
              "#bd3786"
             ],
             [
              0.5555555555555556,
              "#d8576b"
             ],
             [
              0.6666666666666666,
              "#ed7953"
             ],
             [
              0.7777777777777778,
              "#fb9f3a"
             ],
             [
              0.8888888888888888,
              "#fdca26"
             ],
             [
              1,
              "#f0f921"
             ]
            ],
            "type": "contour"
           }
          ],
          "contourcarpet": [
           {
            "colorbar": {
             "outlinewidth": 0,
             "ticks": ""
            },
            "type": "contourcarpet"
           }
          ],
          "heatmap": [
           {
            "colorbar": {
             "outlinewidth": 0,
             "ticks": ""
            },
            "colorscale": [
             [
              0,
              "#0d0887"
             ],
             [
              0.1111111111111111,
              "#46039f"
             ],
             [
              0.2222222222222222,
              "#7201a8"
             ],
             [
              0.3333333333333333,
              "#9c179e"
             ],
             [
              0.4444444444444444,
              "#bd3786"
             ],
             [
              0.5555555555555556,
              "#d8576b"
             ],
             [
              0.6666666666666666,
              "#ed7953"
             ],
             [
              0.7777777777777778,
              "#fb9f3a"
             ],
             [
              0.8888888888888888,
              "#fdca26"
             ],
             [
              1,
              "#f0f921"
             ]
            ],
            "type": "heatmap"
           }
          ],
          "heatmapgl": [
           {
            "colorbar": {
             "outlinewidth": 0,
             "ticks": ""
            },
            "colorscale": [
             [
              0,
              "#0d0887"
             ],
             [
              0.1111111111111111,
              "#46039f"
             ],
             [
              0.2222222222222222,
              "#7201a8"
             ],
             [
              0.3333333333333333,
              "#9c179e"
             ],
             [
              0.4444444444444444,
              "#bd3786"
             ],
             [
              0.5555555555555556,
              "#d8576b"
             ],
             [
              0.6666666666666666,
              "#ed7953"
             ],
             [
              0.7777777777777778,
              "#fb9f3a"
             ],
             [
              0.8888888888888888,
              "#fdca26"
             ],
             [
              1,
              "#f0f921"
             ]
            ],
            "type": "heatmapgl"
           }
          ],
          "histogram": [
           {
            "marker": {
             "colorbar": {
              "outlinewidth": 0,
              "ticks": ""
             }
            },
            "type": "histogram"
           }
          ],
          "histogram2d": [
           {
            "colorbar": {
             "outlinewidth": 0,
             "ticks": ""
            },
            "colorscale": [
             [
              0,
              "#0d0887"
             ],
             [
              0.1111111111111111,
              "#46039f"
             ],
             [
              0.2222222222222222,
              "#7201a8"
             ],
             [
              0.3333333333333333,
              "#9c179e"
             ],
             [
              0.4444444444444444,
              "#bd3786"
             ],
             [
              0.5555555555555556,
              "#d8576b"
             ],
             [
              0.6666666666666666,
              "#ed7953"
             ],
             [
              0.7777777777777778,
              "#fb9f3a"
             ],
             [
              0.8888888888888888,
              "#fdca26"
             ],
             [
              1,
              "#f0f921"
             ]
            ],
            "type": "histogram2d"
           }
          ],
          "histogram2dcontour": [
           {
            "colorbar": {
             "outlinewidth": 0,
             "ticks": ""
            },
            "colorscale": [
             [
              0,
              "#0d0887"
             ],
             [
              0.1111111111111111,
              "#46039f"
             ],
             [
              0.2222222222222222,
              "#7201a8"
             ],
             [
              0.3333333333333333,
              "#9c179e"
             ],
             [
              0.4444444444444444,
              "#bd3786"
             ],
             [
              0.5555555555555556,
              "#d8576b"
             ],
             [
              0.6666666666666666,
              "#ed7953"
             ],
             [
              0.7777777777777778,
              "#fb9f3a"
             ],
             [
              0.8888888888888888,
              "#fdca26"
             ],
             [
              1,
              "#f0f921"
             ]
            ],
            "type": "histogram2dcontour"
           }
          ],
          "mesh3d": [
           {
            "colorbar": {
             "outlinewidth": 0,
             "ticks": ""
            },
            "type": "mesh3d"
           }
          ],
          "parcoords": [
           {
            "line": {
             "colorbar": {
              "outlinewidth": 0,
              "ticks": ""
             }
            },
            "type": "parcoords"
           }
          ],
          "pie": [
           {
            "automargin": true,
            "type": "pie"
           }
          ],
          "scatter": [
           {
            "marker": {
             "colorbar": {
              "outlinewidth": 0,
              "ticks": ""
             }
            },
            "type": "scatter"
           }
          ],
          "scatter3d": [
           {
            "line": {
             "colorbar": {
              "outlinewidth": 0,
              "ticks": ""
             }
            },
            "marker": {
             "colorbar": {
              "outlinewidth": 0,
              "ticks": ""
             }
            },
            "type": "scatter3d"
           }
          ],
          "scattercarpet": [
           {
            "marker": {
             "colorbar": {
              "outlinewidth": 0,
              "ticks": ""
             }
            },
            "type": "scattercarpet"
           }
          ],
          "scattergeo": [
           {
            "marker": {
             "colorbar": {
              "outlinewidth": 0,
              "ticks": ""
             }
            },
            "type": "scattergeo"
           }
          ],
          "scattergl": [
           {
            "marker": {
             "colorbar": {
              "outlinewidth": 0,
              "ticks": ""
             }
            },
            "type": "scattergl"
           }
          ],
          "scattermapbox": [
           {
            "marker": {
             "colorbar": {
              "outlinewidth": 0,
              "ticks": ""
             }
            },
            "type": "scattermapbox"
           }
          ],
          "scatterpolar": [
           {
            "marker": {
             "colorbar": {
              "outlinewidth": 0,
              "ticks": ""
             }
            },
            "type": "scatterpolar"
           }
          ],
          "scatterpolargl": [
           {
            "marker": {
             "colorbar": {
              "outlinewidth": 0,
              "ticks": ""
             }
            },
            "type": "scatterpolargl"
           }
          ],
          "scatterternary": [
           {
            "marker": {
             "colorbar": {
              "outlinewidth": 0,
              "ticks": ""
             }
            },
            "type": "scatterternary"
           }
          ],
          "surface": [
           {
            "colorbar": {
             "outlinewidth": 0,
             "ticks": ""
            },
            "colorscale": [
             [
              0,
              "#0d0887"
             ],
             [
              0.1111111111111111,
              "#46039f"
             ],
             [
              0.2222222222222222,
              "#7201a8"
             ],
             [
              0.3333333333333333,
              "#9c179e"
             ],
             [
              0.4444444444444444,
              "#bd3786"
             ],
             [
              0.5555555555555556,
              "#d8576b"
             ],
             [
              0.6666666666666666,
              "#ed7953"
             ],
             [
              0.7777777777777778,
              "#fb9f3a"
             ],
             [
              0.8888888888888888,
              "#fdca26"
             ],
             [
              1,
              "#f0f921"
             ]
            ],
            "type": "surface"
           }
          ],
          "table": [
           {
            "cells": {
             "fill": {
              "color": "#EBF0F8"
             },
             "line": {
              "color": "white"
             }
            },
            "header": {
             "fill": {
              "color": "#C8D4E3"
             },
             "line": {
              "color": "white"
             }
            },
            "type": "table"
           }
          ]
         },
         "layout": {
          "annotationdefaults": {
           "arrowcolor": "#2a3f5f",
           "arrowhead": 0,
           "arrowwidth": 1
          },
          "coloraxis": {
           "colorbar": {
            "outlinewidth": 0,
            "ticks": ""
           }
          },
          "colorscale": {
           "diverging": [
            [
             0,
             "#8e0152"
            ],
            [
             0.1,
             "#c51b7d"
            ],
            [
             0.2,
             "#de77ae"
            ],
            [
             0.3,
             "#f1b6da"
            ],
            [
             0.4,
             "#fde0ef"
            ],
            [
             0.5,
             "#f7f7f7"
            ],
            [
             0.6,
             "#e6f5d0"
            ],
            [
             0.7,
             "#b8e186"
            ],
            [
             0.8,
             "#7fbc41"
            ],
            [
             0.9,
             "#4d9221"
            ],
            [
             1,
             "#276419"
            ]
           ],
           "sequential": [
            [
             0,
             "#0d0887"
            ],
            [
             0.1111111111111111,
             "#46039f"
            ],
            [
             0.2222222222222222,
             "#7201a8"
            ],
            [
             0.3333333333333333,
             "#9c179e"
            ],
            [
             0.4444444444444444,
             "#bd3786"
            ],
            [
             0.5555555555555556,
             "#d8576b"
            ],
            [
             0.6666666666666666,
             "#ed7953"
            ],
            [
             0.7777777777777778,
             "#fb9f3a"
            ],
            [
             0.8888888888888888,
             "#fdca26"
            ],
            [
             1,
             "#f0f921"
            ]
           ],
           "sequentialminus": [
            [
             0,
             "#0d0887"
            ],
            [
             0.1111111111111111,
             "#46039f"
            ],
            [
             0.2222222222222222,
             "#7201a8"
            ],
            [
             0.3333333333333333,
             "#9c179e"
            ],
            [
             0.4444444444444444,
             "#bd3786"
            ],
            [
             0.5555555555555556,
             "#d8576b"
            ],
            [
             0.6666666666666666,
             "#ed7953"
            ],
            [
             0.7777777777777778,
             "#fb9f3a"
            ],
            [
             0.8888888888888888,
             "#fdca26"
            ],
            [
             1,
             "#f0f921"
            ]
           ]
          },
          "colorway": [
           "#636efa",
           "#EF553B",
           "#00cc96",
           "#ab63fa",
           "#FFA15A",
           "#19d3f3",
           "#FF6692",
           "#B6E880",
           "#FF97FF",
           "#FECB52"
          ],
          "font": {
           "color": "#2a3f5f"
          },
          "geo": {
           "bgcolor": "white",
           "lakecolor": "white",
           "landcolor": "#E5ECF6",
           "showlakes": true,
           "showland": true,
           "subunitcolor": "white"
          },
          "hoverlabel": {
           "align": "left"
          },
          "hovermode": "closest",
          "mapbox": {
           "style": "light"
          },
          "paper_bgcolor": "white",
          "plot_bgcolor": "#E5ECF6",
          "polar": {
           "angularaxis": {
            "gridcolor": "white",
            "linecolor": "white",
            "ticks": ""
           },
           "bgcolor": "#E5ECF6",
           "radialaxis": {
            "gridcolor": "white",
            "linecolor": "white",
            "ticks": ""
           }
          },
          "scene": {
           "xaxis": {
            "backgroundcolor": "#E5ECF6",
            "gridcolor": "white",
            "gridwidth": 2,
            "linecolor": "white",
            "showbackground": true,
            "ticks": "",
            "zerolinecolor": "white"
           },
           "yaxis": {
            "backgroundcolor": "#E5ECF6",
            "gridcolor": "white",
            "gridwidth": 2,
            "linecolor": "white",
            "showbackground": true,
            "ticks": "",
            "zerolinecolor": "white"
           },
           "zaxis": {
            "backgroundcolor": "#E5ECF6",
            "gridcolor": "white",
            "gridwidth": 2,
            "linecolor": "white",
            "showbackground": true,
            "ticks": "",
            "zerolinecolor": "white"
           }
          },
          "shapedefaults": {
           "line": {
            "color": "#2a3f5f"
           }
          },
          "ternary": {
           "aaxis": {
            "gridcolor": "white",
            "linecolor": "white",
            "ticks": ""
           },
           "baxis": {
            "gridcolor": "white",
            "linecolor": "white",
            "ticks": ""
           },
           "bgcolor": "#E5ECF6",
           "caxis": {
            "gridcolor": "white",
            "linecolor": "white",
            "ticks": ""
           }
          },
          "title": {
           "x": 0.05
          },
          "xaxis": {
           "automargin": true,
           "gridcolor": "white",
           "linecolor": "white",
           "ticks": "",
           "title": {
            "standoff": 15
           },
           "zerolinecolor": "white",
           "zerolinewidth": 2
          },
          "yaxis": {
           "automargin": true,
           "gridcolor": "white",
           "linecolor": "white",
           "ticks": "",
           "title": {
            "standoff": 15
           },
           "zerolinecolor": "white",
           "zerolinewidth": 2
          }
         }
        },
        "xaxis": {
         "anchor": "y",
         "autorange": true,
         "domain": [
          0,
          1
         ],
         "range": [
          0.22222222222222232,
          75.77777777777777
         ],
         "title": {
          "text": "AllocCPUS"
         },
         "type": "linear"
        },
        "yaxis": {
         "anchor": "x",
         "autorange": true,
         "domain": [
          0,
          1
         ],
         "range": [
          1.169374439861529,
          15.295721317386164
         ],
         "title": {
          "text": "Speedup"
         },
         "type": "linear"
        }
       }
      },
      "image/png": "[encoded data removed]",
      "text/html": [
       "<div>\n",
       "        \n",
       "        \n",
       "            <div id=\"c2422eb9-876e-4449-8961-183845e41e99\" class=\"plotly-graph-div\" style=\"height:525px; width:100%;\"></div>\n",
       "            <script type=\"text/javascript\">\n",
       "                require([\"plotly\"], function(Plotly) {\n",
       "                    window.PLOTLYENV=window.PLOTLYENV || {};\n",
       "                    \n",
       "                if (document.getElementById(\"c2422eb9-876e-4449-8961-183845e41e99\")) {\n",
       "                    Plotly.newPlot(\n",
       "                        'c2422eb9-876e-4449-8961-183845e41e99',\n",
       "                        [{\"customdata\": [[1.8756917837377607, 1.0, 4.0, 2349.0, 0.46892294593444017, 4141012000.0], [2.532183908045977, 1.0, 6.0, 1740.0, 0.42203065134099615, 3939508000.0], [3.5079617834394905, 1.0, 8.0, 1256.0, 0.4384952229299363, 3849668000.0], [4.110074626865671, 1.0, 10.0, 1072.0, 0.4110074626865672, 4016636000.0], [4.353754940711463, 1.0, 12.0, 1012.0, 0.3628129117259552, 4055408000.0], [4.722400857449089, 1.0, 14.0, 933.0, 0.3373143469606492, 4068936000.0], [4.4460141271442986, 1.0, 16.0, 991.0, 0.27787588294651866, 4091396000.0], [5.922043010752688, 1.0, 18.0, 744.0, 0.3290023894862604, 4145580000.0], [5.962110960757781, 1.0, 20.0, 739.0, 0.298105548037889, 4180512000.0], [6.788906009244992, 1.0, 22.0, 649.0, 0.3085866367838633, 4242864000.0], [8.010909090909092, 1.0, 24.0, 550.0, 0.3337878787878788, 4308156000.0], [7.038338658146965, 1.0, 26.0, 626.0, 0.27070533300565247, 4344056000.0], [8.313207547169812, 1.0, 28.0, 530.0, 0.29690026954177895, 4568952000.0], [8.690335305719922, 1.0, 30.0, 507.0, 0.2896778435239974, 4468200000.0], [10.440758293838863, 1.0, 32.0, 422.0, 0.3262736966824645, 4481188000.0], [8.63921568627451, 1.0, 34.0, 510.0, 0.2540945790080738, 4464012000.0], [9.028688524590164, 1.0, 36.0, 488.0, 0.2507969034608379, 4344364000.0], [8.025500910746812, 1.0, 38.0, 549.0, 0.211197392388074, 4427396000.0], [9.434689507494646, 1.0, 40.0, 467.0, 0.23586723768736617, 4465124000.0], [9.599128540305012, 1.0, 42.0, 459.0, 0.2285506795310717, 4521652000.0], [9.726269315673289, 1.0, 44.0, 453.0, 0.22105157535621112, 4835968000.0], [9.122153209109731, 1.0, 46.0, 483.0, 0.1983076784589072, 4897884000.0], [8.79441117764471, 1.0, 48.0, 501.0, 0.18321689953426482, 5002148000.0], [11.182741116751268, 1.0, 50.0, 394.0, 0.22365482233502537, 5011160000.0], [10.440758293838863, 1.0, 52.0, 422.0, 0.20078381334305506, 5026664000.0], [10.318501170960188, 1.0, 54.0, 427.0, 0.19108335501778126, 5120972000.0], [10.987531172069826, 1.0, 56.0, 401.0, 0.19620591378696117, 5214504000.0], [10.013636363636364, 1.0, 58.0, 440.0, 0.17264890282131662, 5225552000.0], [12.341736694677872, 1.0, 60.0, 357.0, 0.2056956115779645, 5249652000.0], [11.876010781671159, 1.0, 62.0, 371.0, 0.1915485609946961, 5293112000.0], [12.734104046242775, 1.0, 64.0, 346.0, 0.19897037572254336, 5328616000.0], [12.517045454545455, 1.0, 66.0, 352.0, 0.1896522038567493, 5423716000.0], [14.589403973509933, 1.0, 68.0, 302.0, 0.21455005843396963, 5505384000.0], [13.598765432098766, 1.0, 70.0, 324.0, 0.19426807760141093, 5479380000.0], [12.80813953488372, 1.0, 72.0, 344.0, 0.177890826873385, 5571684000.0]], \"error_y\": {\"array\": [null, null, null, null, null, null, null, null, null, null, null, null, null, null, null, null, null, null, null, null, null, null, null, null, null, null, null, null, null, null, null, null, null, null, null]}, \"hovertemplate\": \"Elapsed_s=%{customdata[3]}<br>CpuEfficiency=%{customdata[4]:.0%}<br>MaxRSS=%{customdata[5]:.2s%}<extra></extra>\", \"legendgroup\": \"True\", \"line\": {\"color\": \"#636efa\", \"dash\": \"solid\"}, \"mode\": \"lines\", \"name\": \"True\", \"orientation\": \"v\", \"showlegend\": true, \"type\": \"scatter\", \"x\": [4, 6, 8, 10, 12, 14, 16, 18, 20, 22, 24, 26, 28, 30, 32, 34, 36, 38, 40, 42, 44, 46, 48, 50, 52, 54, 56, 58, 60, 62, 64, 66, 68, 70, 72], \"xaxis\": \"x\", \"y\": [1.8756917837377607, 2.532183908045977, 3.5079617834394905, 4.110074626865671, 4.353754940711463, 4.722400857449089, 4.4460141271442986, 5.922043010752688, 5.962110960757781, 6.788906009244992, 8.010909090909092, 7.038338658146965, 8.313207547169812, 8.690335305719922, 10.440758293838863, 8.63921568627451, 9.028688524590164, 8.025500910746812, 9.434689507494646, 9.599128540305012, 9.726269315673289, 9.122153209109731, 8.79441117764471, 11.182741116751268, 10.440758293838863, 10.318501170960188, 10.987531172069826, 10.013636363636364, 12.341736694677872, 11.876010781671159, 12.734104046242775, 12.517045454545455, 14.589403973509933, 13.598765432098766, 12.80813953488372], \"yaxis\": \"y\"}],\n",
       "                        {\"legend\": {\"title\": {\"text\": \"Hyperthreading\"}, \"tracegroupgap\": 0}, \"margin\": {\"t\": 60}, \"template\": {\"data\": {\"bar\": [{\"error_x\": {\"color\": \"#2a3f5f\"}, \"error_y\": {\"color\": \"#2a3f5f\"}, \"marker\": {\"line\": {\"color\": \"#E5ECF6\", \"width\": 0.5}}, \"type\": \"bar\"}], \"barpolar\": [{\"marker\": {\"line\": {\"color\": \"#E5ECF6\", \"width\": 0.5}}, \"type\": \"barpolar\"}], \"carpet\": [{\"aaxis\": {\"endlinecolor\": \"#2a3f5f\", \"gridcolor\": \"white\", \"linecolor\": \"white\", \"minorgridcolor\": \"white\", \"startlinecolor\": \"#2a3f5f\"}, \"baxis\": {\"endlinecolor\": \"#2a3f5f\", \"gridcolor\": \"white\", \"linecolor\": \"white\", \"minorgridcolor\": \"white\", \"startlinecolor\": \"#2a3f5f\"}, \"type\": \"carpet\"}], \"choropleth\": [{\"colorbar\": {\"outlinewidth\": 0, \"ticks\": \"\"}, \"type\": \"choropleth\"}], \"contour\": [{\"colorbar\": {\"outlinewidth\": 0, \"ticks\": \"\"}, \"colorscale\": [[0.0, \"#0d0887\"], [0.1111111111111111, \"#46039f\"], [0.2222222222222222, \"#7201a8\"], [0.3333333333333333, \"#9c179e\"], [0.4444444444444444, \"#bd3786\"], [0.5555555555555556, \"#d8576b\"], [0.6666666666666666, \"#ed7953\"], [0.7777777777777778, \"#fb9f3a\"], [0.8888888888888888, \"#fdca26\"], [1.0, \"#f0f921\"]], \"type\": \"contour\"}], \"contourcarpet\": [{\"colorbar\": {\"outlinewidth\": 0, \"ticks\": \"\"}, \"type\": \"contourcarpet\"}], \"heatmap\": [{\"colorbar\": {\"outlinewidth\": 0, \"ticks\": \"\"}, \"colorscale\": [[0.0, \"#0d0887\"], [0.1111111111111111, \"#46039f\"], [0.2222222222222222, \"#7201a8\"], [0.3333333333333333, \"#9c179e\"], [0.4444444444444444, \"#bd3786\"], [0.5555555555555556, \"#d8576b\"], [0.6666666666666666, \"#ed7953\"], [0.7777777777777778, \"#fb9f3a\"], [0.8888888888888888, \"#fdca26\"], [1.0, \"#f0f921\"]], \"type\": \"heatmap\"}], \"heatmapgl\": [{\"colorbar\": {\"outlinewidth\": 0, \"ticks\": \"\"}, \"colorscale\": [[0.0, \"#0d0887\"], [0.1111111111111111, \"#46039f\"], [0.2222222222222222, \"#7201a8\"], [0.3333333333333333, \"#9c179e\"], [0.4444444444444444, \"#bd3786\"], [0.5555555555555556, \"#d8576b\"], [0.6666666666666666, \"#ed7953\"], [0.7777777777777778, \"#fb9f3a\"], [0.8888888888888888, \"#fdca26\"], [1.0, \"#f0f921\"]], \"type\": \"heatmapgl\"}], \"histogram\": [{\"marker\": {\"colorbar\": {\"outlinewidth\": 0, \"ticks\": \"\"}}, \"type\": \"histogram\"}], \"histogram2d\": [{\"colorbar\": {\"outlinewidth\": 0, \"ticks\": \"\"}, \"colorscale\": [[0.0, \"#0d0887\"], [0.1111111111111111, \"#46039f\"], [0.2222222222222222, \"#7201a8\"], [0.3333333333333333, \"#9c179e\"], [0.4444444444444444, \"#bd3786\"], [0.5555555555555556, \"#d8576b\"], [0.6666666666666666, \"#ed7953\"], [0.7777777777777778, \"#fb9f3a\"], [0.8888888888888888, \"#fdca26\"], [1.0, \"#f0f921\"]], \"type\": \"histogram2d\"}], \"histogram2dcontour\": [{\"colorbar\": {\"outlinewidth\": 0, \"ticks\": \"\"}, \"colorscale\": [[0.0, \"#0d0887\"], [0.1111111111111111, \"#46039f\"], [0.2222222222222222, \"#7201a8\"], [0.3333333333333333, \"#9c179e\"], [0.4444444444444444, \"#bd3786\"], [0.5555555555555556, \"#d8576b\"], [0.6666666666666666, \"#ed7953\"], [0.7777777777777778, \"#fb9f3a\"], [0.8888888888888888, \"#fdca26\"], [1.0, \"#f0f921\"]], \"type\": \"histogram2dcontour\"}], \"mesh3d\": [{\"colorbar\": {\"outlinewidth\": 0, \"ticks\": \"\"}, \"type\": \"mesh3d\"}], \"parcoords\": [{\"line\": {\"colorbar\": {\"outlinewidth\": 0, \"ticks\": \"\"}}, \"type\": \"parcoords\"}], \"pie\": [{\"automargin\": true, \"type\": \"pie\"}], \"scatter\": [{\"marker\": {\"colorbar\": {\"outlinewidth\": 0, \"ticks\": \"\"}}, \"type\": \"scatter\"}], \"scatter3d\": [{\"line\": {\"colorbar\": {\"outlinewidth\": 0, \"ticks\": \"\"}}, \"marker\": {\"colorbar\": {\"outlinewidth\": 0, \"ticks\": \"\"}}, \"type\": \"scatter3d\"}], \"scattercarpet\": [{\"marker\": {\"colorbar\": {\"outlinewidth\": 0, \"ticks\": \"\"}}, \"type\": \"scattercarpet\"}], \"scattergeo\": [{\"marker\": {\"colorbar\": {\"outlinewidth\": 0, \"ticks\": \"\"}}, \"type\": \"scattergeo\"}], \"scattergl\": [{\"marker\": {\"colorbar\": {\"outlinewidth\": 0, \"ticks\": \"\"}}, \"type\": \"scattergl\"}], \"scattermapbox\": [{\"marker\": {\"colorbar\": {\"outlinewidth\": 0, \"ticks\": \"\"}}, \"type\": \"scattermapbox\"}], \"scatterpolar\": [{\"marker\": {\"colorbar\": {\"outlinewidth\": 0, \"ticks\": \"\"}}, \"type\": \"scatterpolar\"}], \"scatterpolargl\": [{\"marker\": {\"colorbar\": {\"outlinewidth\": 0, \"ticks\": \"\"}}, \"type\": \"scatterpolargl\"}], \"scatterternary\": [{\"marker\": {\"colorbar\": {\"outlinewidth\": 0, \"ticks\": \"\"}}, \"type\": \"scatterternary\"}], \"surface\": [{\"colorbar\": {\"outlinewidth\": 0, \"ticks\": \"\"}, \"colorscale\": [[0.0, \"#0d0887\"], [0.1111111111111111, \"#46039f\"], [0.2222222222222222, \"#7201a8\"], [0.3333333333333333, \"#9c179e\"], [0.4444444444444444, \"#bd3786\"], [0.5555555555555556, \"#d8576b\"], [0.6666666666666666, \"#ed7953\"], [0.7777777777777778, \"#fb9f3a\"], [0.8888888888888888, \"#fdca26\"], [1.0, \"#f0f921\"]], \"type\": \"surface\"}], \"table\": [{\"cells\": {\"fill\": {\"color\": \"#EBF0F8\"}, \"line\": {\"color\": \"white\"}}, \"header\": {\"fill\": {\"color\": \"#C8D4E3\"}, \"line\": {\"color\": \"white\"}}, \"type\": \"table\"}]}, \"layout\": {\"annotationdefaults\": {\"arrowcolor\": \"#2a3f5f\", \"arrowhead\": 0, \"arrowwidth\": 1}, \"coloraxis\": {\"colorbar\": {\"outlinewidth\": 0, \"ticks\": \"\"}}, \"colorscale\": {\"diverging\": [[0, \"#8e0152\"], [0.1, \"#c51b7d\"], [0.2, \"#de77ae\"], [0.3, \"#f1b6da\"], [0.4, \"#fde0ef\"], [0.5, \"#f7f7f7\"], [0.6, \"#e6f5d0\"], [0.7, \"#b8e186\"], [0.8, \"#7fbc41\"], [0.9, \"#4d9221\"], [1, \"#276419\"]], \"sequential\": [[0.0, \"#0d0887\"], [0.1111111111111111, \"#46039f\"], [0.2222222222222222, \"#7201a8\"], [0.3333333333333333, \"#9c179e\"], [0.4444444444444444, \"#bd3786\"], [0.5555555555555556, \"#d8576b\"], [0.6666666666666666, \"#ed7953\"], [0.7777777777777778, \"#fb9f3a\"], [0.8888888888888888, \"#fdca26\"], [1.0, \"#f0f921\"]], \"sequentialminus\": [[0.0, \"#0d0887\"], [0.1111111111111111, \"#46039f\"], [0.2222222222222222, \"#7201a8\"], [0.3333333333333333, \"#9c179e\"], [0.4444444444444444, \"#bd3786\"], [0.5555555555555556, \"#d8576b\"], [0.6666666666666666, \"#ed7953\"], [0.7777777777777778, \"#fb9f3a\"], [0.8888888888888888, \"#fdca26\"], [1.0, \"#f0f921\"]]}, \"colorway\": [\"#636efa\", \"#EF553B\", \"#00cc96\", \"#ab63fa\", \"#FFA15A\", \"#19d3f3\", \"#FF6692\", \"#B6E880\", \"#FF97FF\", \"#FECB52\"], \"font\": {\"color\": \"#2a3f5f\"}, \"geo\": {\"bgcolor\": \"white\", \"lakecolor\": \"white\", \"landcolor\": \"#E5ECF6\", \"showlakes\": true, \"showland\": true, \"subunitcolor\": \"white\"}, \"hoverlabel\": {\"align\": \"left\"}, \"hovermode\": \"closest\", \"mapbox\": {\"style\": \"light\"}, \"paper_bgcolor\": \"white\", \"plot_bgcolor\": \"#E5ECF6\", \"polar\": {\"angularaxis\": {\"gridcolor\": \"white\", \"linecolor\": \"white\", \"ticks\": \"\"}, \"bgcolor\": \"#E5ECF6\", \"radialaxis\": {\"gridcolor\": \"white\", \"linecolor\": \"white\", \"ticks\": \"\"}}, \"scene\": {\"xaxis\": {\"backgroundcolor\": \"#E5ECF6\", \"gridcolor\": \"white\", \"gridwidth\": 2, \"linecolor\": \"white\", \"showbackground\": true, \"ticks\": \"\", \"zerolinecolor\": \"white\"}, \"yaxis\": {\"backgroundcolor\": \"#E5ECF6\", \"gridcolor\": \"white\", \"gridwidth\": 2, \"linecolor\": \"white\", \"showbackground\": true, \"ticks\": \"\", \"zerolinecolor\": \"white\"}, \"zaxis\": {\"backgroundcolor\": \"#E5ECF6\", \"gridcolor\": \"white\", \"gridwidth\": 2, \"linecolor\": \"white\", \"showbackground\": true, \"ticks\": \"\", \"zerolinecolor\": \"white\"}}, \"shapedefaults\": {\"line\": {\"color\": \"#2a3f5f\"}}, \"ternary\": {\"aaxis\": {\"gridcolor\": \"white\", \"linecolor\": \"white\", \"ticks\": \"\"}, \"baxis\": {\"gridcolor\": \"white\", \"linecolor\": \"white\", \"ticks\": \"\"}, \"bgcolor\": \"#E5ECF6\", \"caxis\": {\"gridcolor\": \"white\", \"linecolor\": \"white\", \"ticks\": \"\"}}, \"title\": {\"x\": 0.05}, \"xaxis\": {\"automargin\": true, \"gridcolor\": \"white\", \"linecolor\": \"white\", \"ticks\": \"\", \"title\": {\"standoff\": 15}, \"zerolinecolor\": \"white\", \"zerolinewidth\": 2}, \"yaxis\": {\"automargin\": true, \"gridcolor\": \"white\", \"linecolor\": \"white\", \"ticks\": \"\", \"title\": {\"standoff\": 15}, \"zerolinecolor\": \"white\", \"zerolinewidth\": 2}}}, \"xaxis\": {\"anchor\": \"y\", \"domain\": [0.0, 1.0], \"title\": {\"text\": \"AllocCPUS\"}}, \"yaxis\": {\"anchor\": \"x\", \"domain\": [0.0, 1.0], \"title\": {\"text\": \"Speedup\"}}},\n",
       "                        {\"responsive\": true}\n",
       "                    ).then(function(){\n",
       "                            \n",
       "var gd = document.getElementById('c2422eb9-876e-4449-8961-183845e41e99');\n",
       "var x = new MutationObserver(function (mutations, observer) {{\n",
       "        var display = window.getComputedStyle(gd).display;\n",
       "        if (!display || display === 'none') {{\n",
       "            console.log([gd, 'removed!']);\n",
       "            Plotly.purge(gd);\n",
       "            observer.disconnect();\n",
       "        }}\n",
       "}});\n",
       "\n",
       "// Listen for the removal of the full notebook cells\n",
       "var notebookContainer = gd.closest('#notebook-container');\n",
       "if (notebookContainer) {{\n",
       "    x.observe(notebookContainer, {childList: true});\n",
       "}}\n",
       "\n",
       "// Listen for the clearing of the current output cell\n",
       "var outputEl = gd.closest('.output');\n",
       "if (outputEl) {{\n",
       "    x.observe(outputEl, {childList: true});\n",
       "}}\n",
       "\n",
       "                        })\n",
       "                };\n",
       "                });\n",
       "            </script>\n",
       "        </div>"
      ]
     },
     "metadata": {},
     "output_type": "display_data"
    }
   ],
   "source": [
    "fig.show()"
   ]
  },
  {
   "cell_type": "code",
   "execution_count": null,
   "metadata": {},
   "outputs": [],
   "source": [
    "# fig.update_layout(\n",
    "#     updatemenus=[\n",
    "#         dict(\n",
    "#             buttons=list([\n",
    "#                 dict(\n",
    "#                     args=[{'y': \"MaxRSS\"}],\n",
    "#                     label=\"Memory\",\n",
    "#                     method=\"update\"\n",
    "#                 ),\n",
    "#                 dict(\n",
    "#                     args=[{'y': \"speedup\"}],\n",
    "#                     label=\"Speedup\",\n",
    "#                     method=\"update\"\n",
    "#                 )\n",
    "#             ]),\n",
    "#         ),\n",
    "#     ]\n",
    "# )"
   ]
  }
 ],
 "metadata": {
  "kernelspec": {
   "display_name": "Python 3.8.1 (gimkl-2018b)",
   "language": "python",
   "name": "python3"
  },
  "language_info": {
   "codemirror_mode": {
    "name": "ipython",
    "version": 3
   },
   "file_extension": ".py",
   "mimetype": "text/x-python",
   "name": "python",
   "nbconvert_exporter": "python",
   "pygments_lexer": "ipython3",
   "version": "3.8.1"
  }
 },
 "nbformat": 4,
 "nbformat_minor": 4
}
